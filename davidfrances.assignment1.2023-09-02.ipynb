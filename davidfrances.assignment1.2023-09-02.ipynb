{
 "cells": [
  {
   "cell_type": "markdown",
   "id": "6be2a4b9-bee4-4895-be00-bbd8586c5379",
   "metadata": {},
   "source": [
    "# Assignment 1: Linear regression with Scikit-Learn\n",
    "For this first assignment, you are asked to fit a linear regression model on data from sold properties (`train.csv`) in order to predict the house prices in (`test.csv`). We suggest that you explore the data set before jumping into model fitting. You can find more info about the data in the `data_description.txt` file. "
   ]
  },
  {
   "cell_type": "code",
   "execution_count": null,
   "id": "83492d5c-d359-407e-83ff-0508996f4302",
   "metadata": {},
   "outputs": [],
   "source": [
    "# import libraries\n",
    "import numpy as np\n",
    "import pandas as pd"
   ]
  },
  {
   "cell_type": "code",
   "execution_count": null,
   "id": "d5207a99-b7de-4f3d-9c40-42c6983ad294",
   "metadata": {},
   "outputs": [],
   "source": [
    "# read train_data \n",
    "train_data = pd.read_csv(\"train.csv\")"
   ]
  },
  {
   "cell_type": "code",
   "execution_count": null,
   "id": "07fc1ee4-e320-4d63-a63d-899d3b634f08",
   "metadata": {},
   "outputs": [],
   "source": [
    "# explore train_data\n",
    "print(train_data.info())"
   ]
  },
  {
   "cell_type": "code",
   "execution_count": null,
   "id": "fc69bbca-b2f5-45a6-8b3d-31d4be693759",
   "metadata": {},
   "outputs": [],
   "source": [
    "# plot correlation matrix\n",
    "import matplotlib.pyplot as plt\n",
    "import seaborn as sns\n",
    "%matplotlib inline\n",
    "\n",
    "corrmat = train_data.corr()\n",
    "f, ax = plt.subplots(figsize=(12, 9))\n",
    "sns.heatmap(corrmat, vmax=.8, square=True);"
   ]
  },
  {
   "cell_type": "code",
   "execution_count": null,
   "id": "9105d6e5-a32f-4c93-9a23-b9e481bff95a",
   "metadata": {},
   "outputs": [],
   "source": [
    "# SalePrice correlation matrix\n",
    "k = 10 #number of variables for heatmap\n",
    "cols = corrmat.nlargest(k, 'SalePrice')['SalePrice'].index\n",
    "cm = np.corrcoef(train_data[cols].values.T)\n",
    "sns.set(font_scale=1.25)\n",
    "hm = sns.heatmap(cm, cbar=True, annot=True, square=True, fmt='.2f', annot_kws={'size': 10}, yticklabels=cols.values, xticklabels=cols.values)\n",
    "plt.show()"
   ]
  },
  {
   "cell_type": "code",
   "execution_count": null,
   "id": "a93c25e1-9fd4-43d2-a84d-4962f8eefd94",
   "metadata": {},
   "outputs": [],
   "source": [
    "# top correlated features\n",
    "top_corr = train_data.corrwith(train_data[\"SalePrice\"]).apply(abs).sort_values(ascending=False).head(5)\n",
    "sns.pairplot(train_data, x_vars=top_corr.drop(labels=['SalePrice']).axes[0].tolist(), y_vars='SalePrice', kind='reg')"
   ]
  },
  {
   "cell_type": "code",
   "execution_count": null,
   "id": "f934c16c-9e3c-4af4-ac7a-56ff5e910377",
   "metadata": {},
   "outputs": [],
   "source": [
    "# check normality\n",
    "# https://docs.scipy.org/doc/scipy/reference/generated/scipy.stats.probplot.html\n",
    "import scipy.stats as stats\n",
    "\n",
    "# probability plot\n",
    "fig = plt.figure()\n",
    "res = stats.probplot(train_data['SalePrice'], plot=plt)"
   ]
  },
  {
   "cell_type": "code",
   "execution_count": null,
   "id": "4bd66016-d8b4-4ede-8468-acbc23117ae2",
   "metadata": {},
   "outputs": [],
   "source": [
    "# data is not normal, apply log transformation\n",
    "train_data['SalePrice'] = np.log(train_data['SalePrice'])"
   ]
  },
  {
   "cell_type": "code",
   "execution_count": null,
   "id": "964f275e-c63f-4cc5-b8ab-6c25a5f68013",
   "metadata": {},
   "outputs": [],
   "source": [
    "# prepare data for training\n",
    "X, y = train_data.drop(\"SalePrice\", axis=1), train_data[\"SalePrice\"]"
   ]
  },
  {
   "cell_type": "code",
   "execution_count": null,
   "id": "58d181e1-1f2a-4f9a-aa9a-da34932a2e06",
   "metadata": {},
   "outputs": [],
   "source": [
    "# split train into train an validation sets\n",
    "from sklearn.model_selection import train_test_split\n",
    "\n",
    "X_train, X_val, y_train, y_val = train_test_split(X, y, test_size=0.2, random_state=112)\n",
    "\n",
    "print(X_train.shape)\n",
    "print(y_train.shape)\n",
    "print(X_val.shape)\n",
    "print(y_val.shape)"
   ]
  },
  {
   "cell_type": "code",
   "execution_count": null,
   "id": "5479ba97-c329-4fb2-aa32-983acdbd54a2",
   "metadata": {},
   "outputs": [],
   "source": [
    "from sklearn.linear_model import LinearRegression\n",
    "\n",
    "# the linear regressor\n",
    "model = LinearRegression()\n",
    "\n",
    "# fit the model to the training data (learn the coefficients)\n",
    "model.fit(X_train, y_train)"
   ]
  },
  {
   "cell_type": "code",
   "execution_count": null,
   "id": "a0428b81-cb45-4a94-9f55-52eb37fbec2d",
   "metadata": {},
   "outputs": [],
   "source": [
    "# print coefficients and intercept\n",
    "print(model.intercept_)\n",
    "print(model.coef_)"
   ]
  },
  {
   "cell_type": "code",
   "execution_count": null,
   "id": "ce224c24-2e6c-4e75-a2e9-e8e8cd113a43",
   "metadata": {},
   "outputs": [],
   "source": [
    "# fit score \n",
    "model.score(X_train, y_train)"
   ]
  },
  {
   "cell_type": "code",
   "execution_count": null,
   "id": "6186dc2d-0b26-40d2-a226-c95546d41e63",
   "metadata": {},
   "outputs": [],
   "source": [
    "# compute mean squared error\n",
    "# https://scikit-learn.org/stable/modules/generated/sklearn.metrics.mean_squared_error.html#sklearn.metrics.mean_squared_error\n",
    "from sklearn.metrics import mean_squared_error\n",
    "\n",
    "train_e = np.sqrt(mean_squared_error(y_train, model.predict(X_train)))\n",
    "train_e\n",
    "\n",
    "valid_e = np.sqrt(mean_squared_error(y_val, model.predict(X_val)))\n",
    "valid_e"
   ]
  },
  {
   "cell_type": "code",
   "execution_count": null,
   "id": "59fddac5-0e23-4479-a892-b09af681e2c3",
   "metadata": {},
   "outputs": [],
   "source": [
    "# compute r2 scores\n",
    "# https://scikit-learn.org/stable/modules/generated/sklearn.metrics.r2_score.html#sklearn.metrics.r2_score\n",
    "from sklearn.metrics import r2_score\n",
    "\n",
    "r2_score(y_train, model.predict(X_train))\n",
    "r2_score(y_val, model.predict(X_val))"
   ]
  },
  {
   "cell_type": "code",
   "execution_count": null,
   "id": "f53cf8fb-29b9-4f82-92a4-57ad1171437c",
   "metadata": {},
   "outputs": [],
   "source": [
    "# data for submission\n",
    "test_data = pd.read_csv(\"test.csv\")\n",
    "model.predict(test_data)"
   ]
  },
  {
   "cell_type": "code",
   "execution_count": null,
   "id": "451be613-2eaa-4921-af8c-8dea2e11d421",
   "metadata": {},
   "outputs": [],
   "source": []
  }
 ],
 "metadata": {
  "kernelspec": {
   "display_name": "Python 3 (ipykernel)",
   "language": "python",
   "name": "python3"
  },
  "language_info": {
   "codemirror_mode": {
    "name": "ipython",
    "version": 3
   },
   "file_extension": ".py",
   "mimetype": "text/x-python",
   "name": "python",
   "nbconvert_exporter": "python",
   "pygments_lexer": "ipython3",
   "version": "3.9.13"
  },
  "vscode": {
   "interpreter": {
    "hash": "949777d72b0d2535278d3dc13498b2535136f6dfe0678499012e853ee9abcab1"
   }
  }
 },
 "nbformat": 4,
 "nbformat_minor": 5
}
